{
  "cells": [
    {
      "cell_type": "code",
      "source": [
        "!apt-get install pciutils nano neofetch"
      ],
      "metadata": {
        "id": "9xo5kvtgFGsN"
      },
      "execution_count": null,
      "outputs": []
    },
    {
      "cell_type": "code",
      "source": [
        "%cd /content\n",
        "!git clone https://github.com/runew0lf/RuinedFooocus.git"
      ],
      "metadata": {
        "id": "kWpnqGDfFMVJ"
      },
      "execution_count": null,
      "outputs": []
    },
    {
      "cell_type": "code",
      "source": [
        "%cd /content\n",
        "!wget -O RuinedFooocus/models/checkpoints/RealViz5.safetensors https://huggingface.co/SG161222/RealVisXL_V5.0/resolve/main/RealVisXL_V5.0_fp32.safetensors"
      ],
      "metadata": {
        "id": "6KPHXLfla3KQ"
      },
      "execution_count": null,
      "outputs": []
    },
    {
      "cell_type": "code",
      "source": [
        "from google.colab import drive\n",
        "drive.mount('/content/drive')"
      ],
      "metadata": {
        "id": "MjjFZwBmKaZh"
      },
      "execution_count": null,
      "outputs": []
    },
    {
      "cell_type": "code",
      "source": [
        "#@title ✅ Fix RuinedFooocus \"advanced controls hidden\" without breaking indentation\n",
        "WEBUI_PATH = \"/content/RuinedFooocus/webui.py\"  # <-- change this to your path\n",
        "\n",
        "import re\n",
        "from pathlib import Path\n",
        "\n",
        "p = Path(WEBUI_PATH)\n",
        "assert p.exists(), f\"File not found: {p}\"\n",
        "\n",
        "# 1) Restore from .bak if our previous patch created it (and file looks broken)\n",
        "bak = p.with_suffix(\".py.bak\")\n",
        "src = p.read_text(encoding=\"utf-8\")\n",
        "\n",
        "if \"IndentationError\" in src or \"expected an indented block\" in src:\n",
        "    # (This won't usually be present in file text, but just in case.)\n",
        "    pass\n",
        "\n",
        "# If a backup exists, prefer restoring it first so we patch a clean file\n",
        "if bak.exists():\n",
        "    print(f\"Restoring backup from: {bak.name}\")\n",
        "    src = bak.read_text(encoding=\"utf-8\")\n",
        "\n",
        "original = src\n",
        "changes = 0\n",
        "\n",
        "def replace_widget_visibility(name_regex):\n",
        "    global src, changes\n",
        "    # Turn \"visible=False\" to \"visible=True\" inside the widget construction\n",
        "    # e.g., cfg = gr.Slider(..., visible=False, )\n",
        "    pattern = rf'({name_regex}\\s*=\\s*gr\\.[A-Za-z_]+\\([^\\)]*?)visible\\s*=\\s*False'\n",
        "    repl    = r'\\1visible=True'\n",
        "    src, n = re.subn(pattern, repl, src, flags=re.DOTALL)\n",
        "    changes += n\n",
        "\n",
        "def force_visible_in_function(func_name):\n",
        "    \"\"\"Within a function body, flip any gr.update(visible=False) -> True.\"\"\"\n",
        "    global src, changes\n",
        "    # Capture function body non-greedily up to the next 'def ' at column 0 OR a decorator OR the known sentinel lines.\n",
        "    pattern = rf'(def\\s+{func_name}\\s*\\([^\\)]*\\):\\n)(.*?)(?=\\n\\s*def\\s|\\n\\s*@|\\Z)'\n",
        "    m = re.search(pattern, src, flags=re.DOTALL)\n",
        "    if not m:\n",
        "        print(f\"⚠️ Could not find function: {func_name}\")\n",
        "        return\n",
        "    head, body = m.group(1), m.group(2)\n",
        "    new_body, n1 = re.subn(r'gr\\.update\\(\\s*visible\\s*=\\s*False\\s*\\)', 'gr.update(visible=True)', body)\n",
        "    changes += n1\n",
        "    # Also flip any tuple/dict uses: visible=False,\n",
        "    new_body, n2 = re.subn(r'visible\\s*=\\s*False', 'visible=True', new_body)\n",
        "    changes += n2\n",
        "    src = src[:m.start(1)] + head + new_body + src[m.end(2):]\n",
        "\n",
        "# 2) Make the core advanced widgets visible at definition\n",
        "for w in [\n",
        "    r'perf_name', r'perf_save', r'custom_steps',\n",
        "    r'cfg', r'sampler_name', r'scheduler', r'clip_skip'\n",
        "]:\n",
        "    replace_widget_visibility(w)\n",
        "\n",
        "# 3) Don’t let callbacks hide them\n",
        "for fn in [\n",
        "    'performance_changed',\n",
        "    'preset_select',\n",
        "    'preset_unselect',\n",
        "    'preset_image_upload'\n",
        "]:\n",
        "    force_visible_in_function(fn)\n",
        "\n",
        "# 4) Write patched file + keep a new backup of the restored original\n",
        "safe_bak = p.with_suffix(\".py.safe_orig\")\n",
        "if not safe_bak.exists():\n",
        "    safe_bak.write_text(original, encoding=\"utf-8\")\n",
        "p.write_text(src, encoding=\"utf-8\")\n",
        "\n",
        "print(f\"✅ Patched {p.name}.\")\n",
        "print(f\"   • Original saved as: {safe_bak.name}\")\n",
        "print(f\"   • Total targeted edits applied: {changes}\")\n",
        "print(\"➡️  Restart RuinedFooocus and the advanced controls should be visible.\")\n"
      ],
      "metadata": {
        "id": "ZYa9nbL6bopQ"
      },
      "execution_count": null,
      "outputs": []
    },
    {
      "cell_type": "code",
      "source": [
        "%cd /content/RuinedFooocus\n",
        "!python entry_with_update.py --share --gpu-only --nobrowser"
      ],
      "metadata": {
        "id": "v4CPmsX3a6Pf"
      },
      "execution_count": null,
      "outputs": []
    },
    {
      "cell_type": "code",
      "source": [
        "%cd /content\n",
        "!cp -r 'RuinedFooocus/outputs/2025-09-02/' drive/MyDrive/ColabExports/"
      ],
      "metadata": {
        "id": "UHCgpDXA9U1a"
      },
      "execution_count": null,
      "outputs": []
    },
    {
      "cell_type": "code",
      "source": [
        "%cd /content/RuinedFooocus/outputs/\n",
        "!rm -rf '2025-09-02'"
      ],
      "metadata": {
        "id": "u_eOTUqca65m"
      },
      "execution_count": null,
      "outputs": []
    },
    {
      "cell_type": "code",
      "source": [
        "#@title take frames from clips\n",
        "# Extract every frame from a video in BASE_DIR to BASE_DIR/clipframes/<video_stem>\n",
        "# Set VIDEO_FILENAME or leave blank to auto-pick the first video file in BASE_DIR.\n",
        "\n",
        "BASE_DIR = \"/content/drive/MyDrive/ColabExports/frames_clips\"  # where your .mp4 lives\n",
        "VIDEO_FILENAME = \"clip_00-01-24_350_to_00-01-28_200.mp4\"  # e.g. \"myclip.mp4\"; if \"\", auto-detects first video file in BASE_DIR\n",
        "SAVE_AS_PNG = True   # if False, saves JPEGs\n",
        "JPG_QUALITY = 95     # 50..100\n",
        "PNG_COMPRESSION = 3  # 0..9 (lower = faster/larger)\n",
        "\n",
        "import os, pathlib\n",
        "from datetime import datetime\n",
        "import cv2\n",
        "\n",
        "# 0) Resolve video path (no upload, Drive assumed mounted already)\n",
        "if not VIDEO_FILENAME:\n",
        "    candidates = [f for f in os.listdir(BASE_DIR)\n",
        "                  if f.lower().endswith((\".mp4\", \".mov\", \".m4v\", \".avi\", \".mkv\"))]\n",
        "    if not candidates:\n",
        "        raise RuntimeError(f\"No video file found in {BASE_DIR}. Set VIDEO_FILENAME explicitly.\")\n",
        "    VIDEO_FILENAME = sorted(candidates)[0]\n",
        "\n",
        "video_path = os.path.join(BASE_DIR, VIDEO_FILENAME)\n",
        "if not os.path.exists(video_path):\n",
        "    raise FileNotFoundError(f\"Video not found: {video_path}\")\n",
        "\n",
        "# 1) Prepare output folder: BASE_DIR/clipframes/<video_stem> (create if needed)\n",
        "OUTPUT_ROOT = os.path.join(BASE_DIR, \"clipframes\")\n",
        "os.makedirs(OUTPUT_ROOT, exist_ok=True)\n",
        "\n",
        "stem = pathlib.Path(video_path).stem\n",
        "frames_dir = os.path.join(OUTPUT_ROOT, stem)\n",
        "if os.path.exists(frames_dir) and os.listdir(frames_dir):\n",
        "    frames_dir = f\"{frames_dir}_{datetime.now().strftime('%Y%m%d_%H%M%S')}\"\n",
        "os.makedirs(frames_dir, exist_ok=True)\n",
        "\n",
        "print(f\"📼 Video: {video_path}\")\n",
        "print(f\"🗂️  Output folder: {frames_dir}\")\n",
        "\n",
        "# 2) Extract frames with OpenCV\n",
        "cap = cv2.VideoCapture(video_path)\n",
        "if not cap.isOpened():\n",
        "    raise RuntimeError(f\"Failed to open video: {video_path}\")\n",
        "\n",
        "fps = cap.get(cv2.CAP_PROP_FPS)\n",
        "total = int(cap.get(cv2.CAP_PROP_FRAME_COUNT) or 0)\n",
        "w = int(cap.get(cv2.CAP_PROP_FRAME_WIDTH)); h = int(cap.get(cv2.CAP_PROP_FRAME_HEIGHT))\n",
        "print(f\"ℹ️  {w}x{h} @ {fps:.3f} FPS, {total} frames (reported)\")\n",
        "\n",
        "count = 0\n",
        "while True:\n",
        "    ok, frame = cap.read()\n",
        "    if not ok:\n",
        "        break\n",
        "    out_name = f\"{stem}_frame_{count:06d}.png\" if SAVE_AS_PNG else f\"{stem}_frame_{count:06d}.jpg\"\n",
        "    out_path = os.path.join(frames_dir, out_name)\n",
        "    if SAVE_AS_PNG:\n",
        "        cv2.imwrite(out_path, frame, [cv2.IMWRITE_PNG_COMPRESSION, int(PNG_COMPRESSION)])\n",
        "    else:\n",
        "        cv2.imwrite(out_path, frame, [cv2.IMWRITE_JPEG_QUALITY, int(JPG_QUALITY)])\n",
        "    count += 1\n",
        "\n",
        "cap.release()\n",
        "print(f\"✅ Done. Saved {count} frames to: {frames_dir}\")\n"
      ],
      "metadata": {
        "id": "7KnByy0N9XjP"
      },
      "execution_count": null,
      "outputs": []
    },
    {
      "cell_type": "code",
      "source": [],
      "metadata": {
        "id": "pvrvGPiFEgi2"
      },
      "execution_count": null,
      "outputs": []
    }
  ],
  "metadata": {
    "colab": {
      "name": "Making the Most of your Colab Subscription",
      "provenance": [],
      "gpuType": "T4"
    },
    "kernelspec": {
      "display_name": "Python 3",
      "name": "python3"
    },
    "accelerator": "GPU"
  },
  "nbformat": 4,
  "nbformat_minor": 0
}